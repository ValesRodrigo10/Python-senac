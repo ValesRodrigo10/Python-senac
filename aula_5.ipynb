{
  "nbformat": 4,
  "nbformat_minor": 0,
  "metadata": {
    "colab": {
      "provenance": [],
      "authorship_tag": "ABX9TyNzU4U2Lxw0zvctNjZrNLqr",
      "include_colab_link": true
    },
    "kernelspec": {
      "name": "python3",
      "display_name": "Python 3"
    },
    "language_info": {
      "name": "python"
    }
  },
  "cells": [
    {
      "cell_type": "markdown",
      "metadata": {
        "id": "view-in-github",
        "colab_type": "text"
      },
      "source": [
        "<a href=\"https://colab.research.google.com/github/ValesRodrigo10/Python-senac/blob/main/aula_5.ipynb\" target=\"_parent\"><img src=\"https://colab.research.google.com/assets/colab-badge.svg\" alt=\"Open In Colab\"/></a>"
      ]
    },
    {
      "cell_type": "code",
      "execution_count": null,
      "metadata": {
        "id": "JtVffbXWWoey"
      },
      "outputs": [],
      "source": [
        "# o que são tuplas, uma estrutura de dados igual a lista, mas elas são imutaveis\n",
        "\n",
        "cidades_sp = ('campinas','Santo André', 'São Bernado')\n",
        "print(type(cidades_sp))#ve o tipo da variavel type\n",
        "print(cidades_sp)\n",
        "#tentando adicionar um elemtno na tupla\n",
        "\n",
        "tupla = (1,2,3)\n",
        "cidades_sp += tupla #adicionando elemento na tupla\n",
        "print(cidades_sp)"
      ]
    },
    {
      "cell_type": "code",
      "source": [
        "#criando dicionario\n",
        "\n",
        "dados_cliente = {\n",
        "    'Nome':'Fulano',\n",
        "    'Endereco':'Rua das alegrias',\n",
        "    'Telefone':'11977584923'\n",
        "}\n",
        "#print(dados_cliente['Nome'])#acessar somente o nome, ou telefone, etc\n",
        "\n",
        "#ADD ITENS NO DICIONARIO\n",
        "#dados_cliente['Idade'] = 35\n",
        "#print(dados_cliente)\n",
        "\n",
        "#atualizar os itens dicionario\n",
        "dados_cliente.update({'Nome':'Fulano de tal'})\n",
        "print(dados_cliente)\n",
        "\n",
        "#remover itens do dicionario\n",
        "\n",
        "dados_cliente.pop('Telefone', None)#removendo telefone\n",
        "print(dados_cliente)\n",
        "#removendo com del\n",
        "del dados_cliente['Nome']#removendo nome\n",
        "print(dados_cliente)\n",
        "#fazendo um dicionario com varios dados\n",
        "pessoas = {\n",
        "    'Maria': {'peso': 50, 'Altura': 1.70, 'CPF': '48594888883'},\n",
        "    'João': {'peso': 75, 'Altura': 1.82, 'CPF': '12345678900'},\n",
        "    'Ana': {'peso': 62, 'Altura': 1.65, 'CPF': '98765432100'},\n",
        "    'Carlos': {'peso': 85, 'Altura': 1.75, 'CPF': '45678912300'}\n",
        "}\n",
        "\n",
        "for nome, dados in pessoas.items():\n",
        "  print(dados)\n"
      ],
      "metadata": {
        "id": "yRyTxGOWbDe2"
      },
      "execution_count": null,
      "outputs": []
    },
    {
      "cell_type": "code",
      "source": [
        "alunos = {\n",
        "    'Carlos':{'Idade':20, 'Curso':'TI'},\n",
        "    'Maria': {'Idade':22, 'Curso':'Engenharia'},\n",
        "    'Pedro': {'Idade':19, 'Curso':'Design'}\n",
        "}\n",
        "#adicionando ANA\n",
        "alunos.update({'Ana':{'Idade':21,'Curso':'Medicina'}})\n",
        "#atualizando curso de maria\n",
        "alunos['Maria']['Curso'] = 'Ciência da computação'\n",
        "#removendo o aluno pedro\n",
        "#alunos.pop('Pedro')\n",
        "#NOME É A CHAVE, E O  VALOR É  ASSOCIADO A CHAVE\n",
        "for nome, info in alunos.items():\n",
        "  print(f\"O aluno {nome} faz o curso de {info['Curso']} e tem {info['Idade']} Anos\")\n",
        "\n",
        "#REMOVENDO UM ALUNO\n",
        "def remover_aluno(alunos):\n",
        "    remove = str(input('Gostaria de remover qual aluno? ')).capitalize().strip()\n",
        "    if remove in alunos:\n",
        "        alunos.pop(remove)\n",
        "        print(f'O aluno(a) {remove} foi removido com sucesso.')\n",
        "    else:\n",
        "        print('Esse aluno não está cadastrado.')\n",
        "\n",
        "remover_aluno(alunos)\n",
        "\n"
      ],
      "metadata": {
        "id": "ZdTrZ4DCgLSy"
      },
      "execution_count": null,
      "outputs": []
    },
    {
      "cell_type": "code",
      "source": [
        "# Função com parâmetro\n",
        "def identificacao(nome, idade):\n",
        "    print(f'Olá {nome}, você tem {idade} anos')\n",
        "\n",
        "identificacao('Rodrigo', 21)\n",
        "\n",
        "# Função soma\n",
        "'''\n",
        "def soma(n1, n2):\n",
        "    return n1 + n2\n",
        "resultado = soma(12, 30)\n",
        "print(resultado)\n",
        "'''\n",
        "\n",
        "# Outra forma de somar com print direto\n",
        "def soma1(n1, n2):\n",
        "    print(sum([n1, n2]))\n",
        "\n",
        "soma1(10, 20)\n",
        "\n"
      ],
      "metadata": {
        "id": "yBk7DJ_VqAtB"
      },
      "execution_count": null,
      "outputs": []
    },
    {
      "cell_type": "code",
      "source": [
        "from IPython.display import clear_output\n",
        "\n",
        "velocidade = 0\n",
        "nome_nave = 'Prometheus'\n",
        "\n",
        "# Função pra limpar a \"tela\" no Colab\n",
        "def limpar_tela():\n",
        "    clear_output(wait=True)\n",
        "\n",
        "# Dados de bordo da nave\n",
        "def dadosDeBordo(nome, velocidade_atual):\n",
        "    print(f'Nome da nave: {nome} | Velocidade atual: {velocidade_atual} Km/s')\n",
        "\n",
        "# Acelerar a nave\n",
        "def acelerar(velocidade_atual):\n",
        "    velocidade_atual += 5\n",
        "    return velocidade_atual\n",
        "\n",
        "# Desacelerar a nave\n",
        "def desacelerar(velocidade_atual):\n",
        "    if velocidade_atual > 0:\n",
        "      velocidade_atual -= 5\n",
        "    else:\n",
        "        print('Nave já está parada')\n",
        "    return velocidade_atual\n",
        "\n",
        "# Loop principal\n",
        "while True:\n",
        "    print('''\\nEscolha uma opção:\n",
        "01 - Acelerar a nave em 5Km/s\n",
        "02 - Desacelerar a nave em 5Km/s\n",
        "03 - Imprimir dados de bordo\n",
        "04 - Sair do programa''')\n",
        "\n",
        "    try:\n",
        "        escolha = int(input(\"Digite sua escolha: \"))\n",
        "    except ValueError:\n",
        "        print(\"Por favor, digite um número válido.\")\n",
        "        input(\"Pressione Enter para continuar...\")\n",
        "        continue\n",
        "    if escolha == 1:\n",
        "        velocidade = acelerar(velocidade)\n",
        "        print(f\"Velocidade aumentada para {velocidade} Km/s\")\n",
        "    elif escolha == 2:\n",
        "        velocidade = desacelerar(velocidade)\n",
        "        print(f\"Velocidade reduzida para {velocidade} Km/s\")\n",
        "    elif escolha == 3:\n",
        "        dadosDeBordo(nome_nave, velocidade)\n",
        "    elif escolha == 4:\n",
        "        print(\"Saindo do programa.\")\n",
        "        break\n",
        "    else:\n",
        "        print(\"Digite um número entre 1 e 4.\")\n",
        "\n",
        "    input(\"Pressione Enter para continuar...\")\n",
        "    limpar_tela()\n"
      ],
      "metadata": {
        "id": "SXU3LNlouFTC"
      },
      "execution_count": null,
      "outputs": []
    },
    {
      "cell_type": "code",
      "source": [
        "#professora\n",
        "\n",
        "nave = input(\"Digite o nome da nave: \")\n",
        "velocidade = 0\n",
        "\n",
        "def acelerar():\n",
        "  global velocidade\n",
        "  velocidade+=5\n",
        "\n",
        "def desacelerar():\n",
        "  global velocidade\n",
        "  velocidade-=5\n",
        "\n",
        "def imprimirDados():\n",
        "  print(f\"Nome da nave: {nave}\")\n",
        "  print(f\"A velocidade atual é {velocidade} km/h\")\n",
        "\n",
        "while True:\n",
        "   menu = int(input(\"1-Acelerar em 5km  2-Desacelrar em 5km 3-Imprimir Dados 4-Sair\"))\n",
        "   if menu == 1:\n",
        "    acelerar()\n",
        "   elif menu == 2:\n",
        "    desacelerar()\n",
        "   elif menu == 3:\n",
        "    imprimirDados()\n",
        "   elif menu == 4:\n",
        "    break\n",
        "   else:\n",
        "    print(\"Opção Inválida\")"
      ],
      "metadata": {
        "id": "6o1OlgBMG_pl"
      },
      "execution_count": null,
      "outputs": []
    },
    {
      "cell_type": "code",
      "source": [],
      "metadata": {
        "id": "JGdon_0KNXg8"
      },
      "execution_count": null,
      "outputs": []
    },
    {
      "cell_type": "code",
      "source": [],
      "metadata": {
        "colab": {
          "base_uri": "https://localhost:8080/"
        },
        "id": "tGGUX65QHggy",
        "outputId": "4599f14a-436e-46e2-a650-b0312931d1de"
      },
      "execution_count": null,
      "outputs": [
        {
          "output_type": "stream",
          "name": "stdout",
          "text": [
            "Livro Harry Potter adicionado com sucesso! \n",
            "Livro Alice no pais das maravilhas adicionado com sucesso! \n"
          ]
        }
      ]
    }
  ]
}